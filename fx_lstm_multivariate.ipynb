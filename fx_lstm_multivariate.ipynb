{
 "cells": [
  {
   "cell_type": "code",
   "execution_count": 177,
   "metadata": {},
   "outputs": [],
   "source": [
    "# Import Libraries\n",
    "import pandas as pd\n",
    "import numpy as np\n",
    "from numpy import array\n",
    "from numpy import hstack\n",
    "import matplotlib.pyplot as plt\n",
    "\n",
    "import datetime as dt\n",
    "import yfinance as yf\n",
    "import pandas_datareader as pdr\n",
    "\n",
    "from sklearn.metrics import mean_squared_error\n",
    "from sklearn.metrics import mean_absolute_error\n",
    "from sklearn.preprocessing import MinMaxScaler\n",
    "\n",
    "from keras.models import Sequential\n",
    "from keras.layers import LSTM\n",
    "from keras.layers import Dense"
   ]
  },
  {
   "cell_type": "code",
   "execution_count": 178,
   "metadata": {},
   "outputs": [],
   "source": [
    "# Get Training Data\n",
    "start = dt.datetime(2015,1,1)\n",
    "end = dt.datetime(2020,6,30)\n",
    "gbp_train = pdr.DataReader('fxb', 'yahoo', start, end)['Adj Close'].dropna()\n",
    "eur_train = pdr.DataReader('fxe', 'yahoo', start, end)['Adj Close'].dropna()\n",
    "ief_train = pdr.DataReader('ief', 'yahoo', start, end)['Adj Close'].dropna()\n",
    "gld_train = pdr.DataReader('gld', 'yahoo', start, end)['Adj Close'].dropna()\n",
    "spy_train = pdr.DataReader('spy', 'yahoo', start, end)['Adj Close'].dropna()"
   ]
  },
  {
   "cell_type": "code",
   "execution_count": 179,
   "metadata": {},
   "outputs": [],
   "source": [
    "# Get Test Data\n",
    "start = dt.datetime(2020,7,1)\n",
    "end = dt.datetime(2020,12,31)\n",
    "gbp_test = pdr.DataReader('fxb', 'yahoo', start, end)['Adj Close'].dropna()\n",
    "eur_test = pdr.DataReader('fxe', 'yahoo', start, end)['Adj Close'].dropna()\n",
    "ief_test = pdr.DataReader('ief', 'yahoo', start, end)['Adj Close'].dropna()\n",
    "gld_test = pdr.DataReader('gld', 'yahoo', start, end)['Adj Close'].dropna()\n",
    "spy_test = pdr.DataReader('spy', 'yahoo', start, end)['Adj Close'].dropna()"
   ]
  },
  {
   "cell_type": "code",
   "execution_count": 180,
   "metadata": {},
   "outputs": [],
   "source": [
    "# Put data into Numpy format\n",
    "scaler = MinMaxScaler()\n",
    "gbp_train = np.array(gbp_train).reshape(-1,1)\n",
    "eur_train = np.array(eur_train).reshape(-1,1)\n",
    "ief_train = np.array(ief_train).reshape(-1,1)\n",
    "gld_train = np.array(gld_train).reshape(-1,1)\n",
    "spy_train = np.array(spy_train).reshape(-1,1)\n",
    "gbp_test = np.array(gbp_test).reshape(-1,1)\n",
    "eur_test = np.array(eur_test).reshape(-1,1)\n",
    "ief_test = np.array(ief_test).reshape(-1,1)\n",
    "gld_test = np.array(gld_test).reshape(-1,1)\n",
    "spy_test = np.array(spy_test).reshape(-1,1)"
   ]
  },
  {
   "cell_type": "code",
   "execution_count": 181,
   "metadata": {},
   "outputs": [],
   "source": [
    "# Fit Transform into unit interval\n",
    "gbp_train = scaler.fit_transform(gbp_train)\n",
    "eur_train = scaler.fit_transform(eur_train)\n",
    "ief_train = scaler.fit_transform(ief_train)\n",
    "gld_train = scaler.fit_transform(gld_train)\n",
    "spy_train = scaler.fit_transform(spy_train)\n",
    "gbp_test = scaler.fit_transform(gbp_test)\n",
    "eur_test = scaler.fit_transform(eur_test)\n",
    "ief_test = scaler.fit_transform(ief_test)\n",
    "gld_test = scaler.fit_transform(gld_test)\n",
    "spy_test = scaler.fit_transform(spy_test)"
   ]
  },
  {
   "cell_type": "code",
   "execution_count": 182,
   "metadata": {},
   "outputs": [],
   "source": [
    "# Convert time series arrays to rows/colums\n",
    "eur_train = eur_train.reshape((len(eur_train), 1))\n",
    "gld_train = gld_train.reshape((len(gld_train), 1))\n",
    "ief_train = ief_train.reshape((len(ief_train), 1))\n",
    "spy_train = spy_train.reshape((len(spy_train), 1))\n",
    "gbp_train = gbp_train.reshape((len(gbp_train), 1))\n",
    "eur_test = eur_test.reshape((len(eur_test), 1))\n",
    "gld_test = gld_test.reshape((len(gld_test), 1))\n",
    "ief_test = ief_test.reshape((len(ief_test), 1))\n",
    "spy_test = spy_test.reshape((len(spy_test), 1))\n",
    "gbp_test = gbp_test.reshape((len(gbp_test), 1))"
   ]
  },
  {
   "cell_type": "code",
   "execution_count": 183,
   "metadata": {},
   "outputs": [],
   "source": [
    "# Merge the data into one array\n",
    "train_dataset = hstack((eur_train, gld_train, ief_train, spy_train, gbp_train))\n",
    "test_dataset = hstack((eur_test, gld_test, ief_test, spy_test, gbp_test))"
   ]
  },
  {
   "cell_type": "code",
   "execution_count": 184,
   "metadata": {},
   "outputs": [],
   "source": [
    "# Function to turn multivariate series into sequence\n",
    "def split_sequences(sequences, n_steps_in, n_steps_out):\n",
    "    X, y = list(), list()\n",
    "    for i in range(len(sequences)):\n",
    "        # find the end of this pattern\n",
    "        end_ix = i + n_steps_in\n",
    "        out_end_ix = end_ix + n_steps_out-1\n",
    "        # check if we are beyond the dataset\n",
    "        if out_end_ix > len(sequences):\n",
    "            break\n",
    "        # gather input and output parts of the pattern\n",
    "        seq_x, seq_y = sequences[i:end_ix, :-1], sequences[end_ix-1:out_end_ix, -1]\n",
    "        X.append(seq_x)\n",
    "        y.append(seq_y)\n",
    "    return array(X), array(y)"
   ]
  },
  {
   "cell_type": "code",
   "execution_count": 185,
   "metadata": {},
   "outputs": [],
   "source": [
    "# Choose number of time steps\n",
    "n_steps_in, n_steps_out = 5, 1"
   ]
  },
  {
   "cell_type": "code",
   "execution_count": 186,
   "metadata": {},
   "outputs": [],
   "source": [
    "# Convert into input/output with above function\n",
    "X, y = split_sequences(train_dataset, n_steps_in, n_steps_out)"
   ]
  },
  {
   "cell_type": "code",
   "execution_count": 187,
   "metadata": {},
   "outputs": [
    {
     "name": "stdout",
     "output_type": "stream",
     "text": [
      "(1379, 5, 4) (1379, 1)\n"
     ]
    }
   ],
   "source": [
    "# Check shape of newly structured data\n",
    "print(X.shape, y.shape)"
   ]
  },
  {
   "cell_type": "code",
   "execution_count": 188,
   "metadata": {},
   "outputs": [],
   "source": [
    "# Define number of features for LSTM entry\n",
    "n_features = X.shape[2]"
   ]
  },
  {
   "cell_type": "code",
   "execution_count": 189,
   "metadata": {},
   "outputs": [],
   "source": [
    "# Set up the LSTM\n",
    "model = Sequential()\n",
    "model.add(LSTM(100, activation='relu', return_sequences=True, input_shape=(n_steps_in, n_features)))\n",
    "model.add(LSTM(100, activation='relu'))\n",
    "model.add(Dense(n_steps_out))\n",
    "model.compile(optimizer='adam', loss='mse')"
   ]
  },
  {
   "cell_type": "code",
   "execution_count": 190,
   "metadata": {},
   "outputs": [
    {
     "name": "stdout",
     "output_type": "stream",
     "text": [
      "Epoch 1/40\n",
      "44/44 [==============================] - 0s 7ms/step - loss: 0.1041\n",
      "Epoch 2/40\n",
      "44/44 [==============================] - 0s 6ms/step - loss: 0.0219\n",
      "Epoch 3/40\n",
      "44/44 [==============================] - 0s 6ms/step - loss: 0.0088\n",
      "Epoch 4/40\n",
      "44/44 [==============================] - 0s 6ms/step - loss: 0.0071\n",
      "Epoch 5/40\n",
      "44/44 [==============================] - 0s 6ms/step - loss: 0.0064\n",
      "Epoch 6/40\n",
      "44/44 [==============================] - 0s 6ms/step - loss: 0.0053\n",
      "Epoch 7/40\n",
      "44/44 [==============================] - 0s 6ms/step - loss: 0.0046\n",
      "Epoch 8/40\n",
      "44/44 [==============================] - 0s 6ms/step - loss: 0.0044\n",
      "Epoch 9/40\n",
      "44/44 [==============================] - 0s 6ms/step - loss: 0.0036\n",
      "Epoch 10/40\n",
      "44/44 [==============================] - 0s 6ms/step - loss: 0.0033\n",
      "Epoch 11/40\n",
      "44/44 [==============================] - 0s 6ms/step - loss: 0.0033\n",
      "Epoch 12/40\n",
      "44/44 [==============================] - 0s 6ms/step - loss: 0.0031\n",
      "Epoch 13/40\n",
      "44/44 [==============================] - 0s 6ms/step - loss: 0.0029\n",
      "Epoch 14/40\n",
      "44/44 [==============================] - 0s 6ms/step - loss: 0.0028\n",
      "Epoch 15/40\n",
      "44/44 [==============================] - 0s 7ms/step - loss: 0.0030\n",
      "Epoch 16/40\n",
      "44/44 [==============================] - 0s 6ms/step - loss: 0.0030\n",
      "Epoch 17/40\n",
      "44/44 [==============================] - 0s 6ms/step - loss: 0.0028\n",
      "Epoch 18/40\n",
      "44/44 [==============================] - 0s 6ms/step - loss: 0.0028\n",
      "Epoch 19/40\n",
      "44/44 [==============================] - 0s 6ms/step - loss: 0.0027\n",
      "Epoch 20/40\n",
      "44/44 [==============================] - 0s 6ms/step - loss: 0.0027\n",
      "Epoch 21/40\n",
      "44/44 [==============================] - 0s 6ms/step - loss: 0.0026\n",
      "Epoch 22/40\n",
      "44/44 [==============================] - 0s 6ms/step - loss: 0.0024\n",
      "Epoch 23/40\n",
      "44/44 [==============================] - 0s 6ms/step - loss: 0.0024\n",
      "Epoch 24/40\n",
      "44/44 [==============================] - 0s 6ms/step - loss: 0.0025\n",
      "Epoch 25/40\n",
      "44/44 [==============================] - 0s 6ms/step - loss: 0.0023\n",
      "Epoch 26/40\n",
      "44/44 [==============================] - 0s 6ms/step - loss: 0.0025\n",
      "Epoch 27/40\n",
      "44/44 [==============================] - 0s 6ms/step - loss: 0.0024\n",
      "Epoch 28/40\n",
      "44/44 [==============================] - 0s 6ms/step - loss: 0.0026\n",
      "Epoch 29/40\n",
      "44/44 [==============================] - 0s 6ms/step - loss: 0.0023\n",
      "Epoch 30/40\n",
      "44/44 [==============================] - 0s 6ms/step - loss: 0.0024\n",
      "Epoch 31/40\n",
      "44/44 [==============================] - 0s 6ms/step - loss: 0.0023\n",
      "Epoch 32/40\n",
      "44/44 [==============================] - 0s 6ms/step - loss: 0.0023\n",
      "Epoch 33/40\n",
      "44/44 [==============================] - 0s 6ms/step - loss: 0.0022\n",
      "Epoch 34/40\n",
      "44/44 [==============================] - 0s 8ms/step - loss: 0.0024\n",
      "Epoch 35/40\n",
      "44/44 [==============================] - 0s 7ms/step - loss: 0.0021\n",
      "Epoch 36/40\n",
      "44/44 [==============================] - 0s 6ms/step - loss: 0.0020\n",
      "Epoch 37/40\n",
      "44/44 [==============================] - 0s 6ms/step - loss: 0.0020\n",
      "Epoch 38/40\n",
      "44/44 [==============================] - 0s 6ms/step - loss: 0.0021\n",
      "Epoch 39/40\n",
      "44/44 [==============================] - 0s 7ms/step - loss: 0.0020\n",
      "Epoch 40/40\n",
      "44/44 [==============================] - 0s 7ms/step - loss: 0.0020\n"
     ]
    },
    {
     "data": {
      "text/plain": [
       "<tensorflow.python.keras.callbacks.History at 0x14495a950>"
      ]
     },
     "execution_count": 190,
     "metadata": {},
     "output_type": "execute_result"
    }
   ],
   "source": [
    "# Fit the model with the training data set\n",
    "model.fit(X, y, epochs=40, verbose=1)"
   ]
  },
  {
   "cell_type": "code",
   "execution_count": 191,
   "metadata": {},
   "outputs": [],
   "source": [
    "# Obtain X variables and y variable from test dataset\n",
    "X_test, y_test = split_sequences(test_dataset, n_steps_in, n_steps_out)"
   ]
  },
  {
   "cell_type": "code",
   "execution_count": 192,
   "metadata": {},
   "outputs": [
    {
     "name": "stdout",
     "output_type": "stream",
     "text": [
      "(124, 5, 4)\n"
     ]
    }
   ],
   "source": [
    "print(X_test.shape)"
   ]
  },
  {
   "cell_type": "code",
   "execution_count": 193,
   "metadata": {},
   "outputs": [
    {
     "name": "stdout",
     "output_type": "stream",
     "text": [
      "4/4 [==============================] - 0s 2ms/step\n"
     ]
    }
   ],
   "source": [
    "y_pred = model.predict(X_test, verbose=1)"
   ]
  },
  {
   "cell_type": "code",
   "execution_count": 194,
   "metadata": {},
   "outputs": [],
   "source": [
    "y_test = np.array(gbp_test).reshape(-1,1)\n",
    "y_test = scaler.inverse_transform(gbp_test)\n",
    "y_pred = np.array(y_pred).reshape(-1,1)\n",
    "y_pred = scaler.inverse_transform(y_pred)"
   ]
  },
  {
   "cell_type": "code",
   "execution_count": 195,
   "metadata": {},
   "outputs": [
    {
     "data": {
      "text/plain": [
       "<matplotlib.legend.Legend at 0x145521ad0>"
      ]
     },
     "execution_count": 195,
     "metadata": {},
     "output_type": "execute_result"
    },
    {
     "data": {
      "image/png": "[encoded data removed]",
      "text/plain": [
       "<Figure size 720x432 with 1 Axes>"
      ]
     },
     "metadata": {
      "needs_background": "light"
     },
     "output_type": "display_data"
    }
   ],
   "source": [
    "# Visualizing the results\n",
    "plt.figure(figsize=(10,6))\n",
    "plt.title('Long Short-Term Memory Neural Network Model: GBPUSD')\n",
    "plt.plot(y_test, label = 'Actual', color = 'g')\n",
    "plt.plot(y_pred , label = 'Predicted', color = 'r')\n",
    "plt.legend()"
   ]
  },
  {
   "cell_type": "code",
   "execution_count": 218,
   "metadata": {},
   "outputs": [],
   "source": [
    "index = [0, 1, 2, 3]"
   ]
  },
  {
   "cell_type": "code",
   "execution_count": 219,
   "metadata": {},
   "outputs": [],
   "source": [
    "y_test = np.delete(y_test, index)"
   ]
  },
  {
   "cell_type": "code",
   "execution_count": 220,
   "metadata": {},
   "outputs": [
    {
     "name": "stdout",
     "output_type": "stream",
     "text": [
      "(124, 1)\n"
     ]
    }
   ],
   "source": [
    "print(y_pred.shape)"
   ]
  },
  {
   "cell_type": "code",
   "execution_count": 221,
   "metadata": {},
   "outputs": [
    {
     "name": "stdout",
     "output_type": "stream",
     "text": [
      "(124,)\n"
     ]
    }
   ],
   "source": [
    "print(y_test.shape)"
   ]
  },
  {
   "cell_type": "code",
   "execution_count": 223,
   "metadata": {},
   "outputs": [
    {
     "name": "stdout",
     "output_type": "stream",
     "text": [
      "15.756046357168067\n"
     ]
    }
   ],
   "source": [
    "print(mean_absolute_error(y_test, y_pred))"
   ]
  }
 ],
 "metadata": {
  "kernelspec": {
   "display_name": "Python 3",
   "language": "python",
   "name": "python3"
  },
  "language_info": {
   "codemirror_mode": {
    "name": "ipython",
    "version": 3
   },
   "file_extension": ".py",
   "mimetype": "text/x-python",
   "name": "python",
   "nbconvert_exporter": "python",
   "pygments_lexer": "ipython3",
   "version": "3.7.4"
  }
 },
 "nbformat": 4,
 "nbformat_minor": 4
}
